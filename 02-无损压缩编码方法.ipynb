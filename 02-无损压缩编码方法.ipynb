{
 "cells": [
  {
   "cell_type": "markdown",
   "metadata": {},
   "source": [
    "# 1. 算术编码法\n",
    "## 1.1 简单的实现方法"
   ]
  },
  {
   "cell_type": "code",
   "execution_count": 8,
   "metadata": {},
   "outputs": [],
   "source": [
    "words = ['a', 'b', 'c','d']\n",
    "freqs = [0.1, 0.36, 0.24, 0.3]\n",
    "\n",
    "info = 'cadacdb'\n",
    "nc = len(words)"
   ]
  },
  {
   "cell_type": "markdown",
   "metadata": {},
   "source": [
    "以下是编码过程的实现："
   ]
  },
  {
   "cell_type": "code",
   "execution_count": 9,
   "metadata": {
    "scrolled": true
   },
   "outputs": [
    {
     "name": "stdout",
     "output_type": "stream",
     "text": [
      "[0, 0.1, 0.45999999999999996, 0.7, 1.0]\n",
      "[0.45999999999999996, 0.484, 0.5704, 0.628, 0.7]\n",
      "[0.45999999999999996, 0.4624, 0.47103999999999996, 0.47679999999999995, 0.48399999999999993]\n",
      "[0.47679999999999995, 0.47751999999999994, 0.4801119999999999, 0.48183999999999994, 0.48399999999999993]\n",
      "[0.47679999999999995, 0.47687199999999996, 0.4771312, 0.47730399999999995, 0.47751999999999994]\n",
      "[0.4771312, 0.47714848, 0.477210688, 0.47725216, 0.47730399999999995]\n",
      "[0.47725216, 0.477257344, 0.47727600639999995, 0.4772884479999999, 0.4773039999999999]\n",
      "\n",
      " code: 0.477257344\n"
     ]
    }
   ],
   "source": [
    "minv = 0\n",
    "maxv = 1\n",
    "for c in info:\n",
    "    # 按字符的出现频率来分割当前区间\n",
    "    ticks = [i for i in range(nc+1)]\n",
    "    ticks[0] = minv\n",
    "    for j in range(1, nc+1):\n",
    "        ticks[j] = ticks[j-1] + freqs[j-1]*(maxv-minv)\n",
    "    print(ticks)\n",
    "    # 选择新的区间\n",
    "    newSeg = words.index(c)\n",
    "    minv = ticks[newSeg]\n",
    "    maxv = ticks[newSeg+1]\n",
    "    \n",
    "code = minv\n",
    "\n",
    "print('\\n code: '+ str(code))"
   ]
  },
  {
   "cell_type": "markdown",
   "metadata": {},
   "source": [
    "以下是解码过程的实现："
   ]
  },
  {
   "cell_type": "code",
   "execution_count": 6,
   "metadata": {},
   "outputs": [
    {
     "name": "stdout",
     "output_type": "stream",
     "text": [
      "cadacdbabaccbaacac\n"
     ]
    }
   ],
   "source": [
    "minv = 0\n",
    "maxv = 1\n",
    "decode = ''\n",
    "for c in info:\n",
    "    # 按字符的出现频率来分割当前区间\n",
    "    ticks = [i for i in range(nc+1)]\n",
    "    ticks[0] = minv\n",
    "    for j in range(1, nc+1):\n",
    "        ticks[j] = ticks[j-1] + freqs[j-1]*(maxv-minv)\n",
    "    \n",
    "    # 根据当前所处区间输出解码\n",
    "    idx = 0\n",
    "    while(code>=ticks[idx]):\n",
    "        idx = idx + 1\n",
    "    decode += words[idx-1]\n",
    "    minv = ticks[idx-1]\n",
    "    maxv = ticks[idx]\n",
    "\n",
    "print(decode)"
   ]
  },
  {
   "cell_type": "markdown",
   "metadata": {},
   "source": [
    "验证解码的正确性"
   ]
  },
  {
   "cell_type": "code",
   "execution_count": 7,
   "metadata": {},
   "outputs": [
    {
     "data": {
      "text/plain": [
       "True"
      ]
     },
     "execution_count": 7,
     "metadata": {},
     "output_type": "execute_result"
    }
   ],
   "source": [
    "info==decode"
   ]
  },
  {
   "cell_type": "markdown",
   "metadata": {},
   "source": [
    "请大家思考：\n",
    "- 目前的实现存在什么问题？\n",
    "- 该如何改进？"
   ]
  }
 ],
 "metadata": {
  "kernelspec": {
   "display_name": "Python 3",
   "language": "python",
   "name": "python3"
  },
  "language_info": {
   "codemirror_mode": {
    "name": "ipython",
    "version": 3
   },
   "file_extension": ".py",
   "mimetype": "text/x-python",
   "name": "python",
   "nbconvert_exporter": "python",
   "pygments_lexer": "ipython3",
   "version": "3.7.1"
  }
 },
 "nbformat": 4,
 "nbformat_minor": 2
}
