{
 "cells": [
  {
   "cell_type": "markdown",
   "metadata": {},
   "source": [
    "# 指南者机器学习与数据挖掘训练营\n",
    "## 项目: AI语音情感分析\n",
    "\n",
    "\n",
    "恭喜大家进入到此训练营的最后一个环节！在这个文件中，部分的模版代码已经写好啦，但你还需要补充一些功能来让项目成功运行。除非有明确要求，你无须修改任何已给出的代码。以**编程练习**开始的标题表示接下来的内容中有需要你必须实现的功能。每一部分都会有详细的指导，需要实现的部分也会在注释中以**TODO**标出。请仔细阅读所有的提示！\n",
    "\n",
    "- **项目任务**：给定一个十秒的音频数据，建立模型对这个音频数据的愉悦程度进行打分。\n",
    "- **项目步骤**：    \n",
    "                        1.  学习opensmile基础知识。\n",
    "                        2. 使用opensmile抽取特征。\n",
    "                        3. 组合样本数据和标签。\n",
    "                        4. 划分训练和测试集合。\n",
    "                        5. 选择模型进行交叉验证和网格搜索。\n",
    "                        6. 模型的集成。\n",
    "                        7. 选择合适指标度量模型效果。\n",
    "\n",
    ">**提示：**Code 和 Markdown 区域可通过 **Shift + Enter** 快捷键运行。此外，Markdown可以通过双击进入编辑模式。\n",
    "\n",
    ">**注意：**如果有未安装的库，请使用`pip install`命令进行安装"
   ]
  },
  {
   "cell_type": "markdown",
   "metadata": {},
   "source": [
    "## 步骤一：学习opensmile基础知识。\n",
    "\n",
    "我们不会花过多的时间去学习语音的各项基础知识，对此有兴趣的同学可以参考以下连接，大致了解语音的基本知识。\n",
    "\n",
    "[时域和频域](https://wenku.baidu.com/view/21eb93522af90242a995e560.html)\n",
    "\n",
    "[采样和量化](https://blog.csdn.net/liusandian/article/details/52488078)\n",
    "\n",
    "[快速傅立叶变换](https://blog.csdn.net/l494926429/article/details/51818012/)\n",
    "\n",
    "[信噪比](https://baike.baidu.com/item/信噪比/206685?fr=aladdin)\n",
    "\n",
    "查看同目录下的《OpenSmile基础》文档，只需要知道如何安装，和大致原理即可，后面很多内容不需要详细了解。\n",
    "\n",
    "安装OpenSmile。"
   ]
  },
  {
   "cell_type": "markdown",
   "metadata": {},
   "source": [
    "## 步骤二：使用opensmile抽取特征\n",
    "\n",
    "数据的含义请查看**data**文件夹下的 **数据说明** 文件。\n",
    "\n",
    "使用python脚本调用OpenSmile中的SMILExtract工具对目录下的音频文件进行处理。\n",
    "\n",
    "无法导入的库，请使用pip install进行安装。\n",
    "\n",
    "注意：我们一般有四种抽取特征的方法IS09_emotion、IS13_ComParE、IS10_paraling、ComParE_2016，每一个的含义请参考《OpenSmile基础》，具体使用哪个请自己尝试。"
   ]
  },
  {
   "cell_type": "code",
   "execution_count": null,
   "metadata": {},
   "outputs": [],
   "source": [
    "## 请不要修改下方代码\n",
    "# 导入依赖库\n",
    "# -*- coding: utf-8 -*-\n",
    "import pandas as pd\n",
    "import numpy as np\n",
    "import os\n",
    "import subprocess\n",
    "import glob\n",
    "from tqdm import tqdm\n",
    "from sklearn.model_selection import train_test_split\n",
    "from sklearn.ensemble import RandomForestRegressor\n",
    "from sklearn.metrics import r2_score\n",
    "from sklearn.metrics import mean_squared_error"
   ]
  },
  {
   "cell_type": "code",
   "execution_count": 1,
   "metadata": {},
   "outputs": [],
   "source": [
    "## 请不要修改下方代码\n",
    "\n",
    "def opensmile_extract(opensmile_path,opensmile_config,input_file_path,output_file_path,config):\n",
    "    '''\n",
    "    opensmile_path:你安装的opensmile所在的路径(SMILExtract可执行文件所在的路径)\n",
    "    opensmile_config:音频特征抽取配置文件所在路径(和SMILExtract相同目录下,config目录路径)\n",
    "    input_file_path:输入音频文件的路径\n",
    "    output_file_path:输出音频文件的目录\n",
    "    config:抽取音频特征的方法\n",
    "    '''\n",
    "    shell_code='{0} -C {1} -I {2} -O {3}'.format(opensmile_path,os.path.join(opensmile_config,config+'.conf'),input_file_path,output_file_path)\n",
    "    subprocess.call(shell_code,shell=True)\n",
    "    \n",
    "def batch_extract(opensmile_path,opensmile_config,config='IS09_emotion'):\n",
    "    if not os.path.exists(config):\n",
    "        os.mkdir(config)\n",
    "    lst_dir=glob.glob('./data/Audio/*.wav')\n",
    "    for path in tqdm(lst_dir):\n",
    "        output_name=os.path.basename(path)[:-4]\n",
    "        output_file_path=os.path.join(config,output_name+'.txt')\n",
    "        opensmile_extract(opensmile_path,opensmile_config,path,output_file_path,config)"
   ]
  },
  {
   "cell_type": "code",
   "execution_count": 2,
   "metadata": {},
   "outputs": [],
   "source": [
    "### TODO：看明白上述代码逻辑，为每一行代码添加注释\n"
   ]
  },
  {
   "cell_type": "code",
   "execution_count": null,
   "metadata": {},
   "outputs": [],
   "source": [
    "### TODO：完成下面代码，找到你电脑上opensmile_path地址和opensmile_config地址，并使用上面函数抽取音频特征。\n",
    "### 注意：抽取成功后，会在相应目下生成大量的txt文件。\n",
    "opensmile_path = None\n",
    "opensmile_config = None\n"
   ]
  },
  {
   "cell_type": "markdown",
   "metadata": {},
   "source": [
    "## 步骤三：组合样本数据和标签。\n",
    "\n",
    "抽取出来的数据以某种形式存储在txt文件中。每一个音频对应一个txt文件，从txt文件中抽取数据，并和标签样本进行数据的拼接。\n",
    "\n",
    "\n",
    "\n"
   ]
  },
  {
   "cell_type": "code",
   "execution_count": null,
   "metadata": {},
   "outputs": [],
   "source": [
    "## 请不要修改下方代码\n",
    "def make_data(config='IS09_emotion'):\n",
    "    '''\n",
    "    规整数据，组装data和label\n",
    "    '''\n",
    "    label=pd.read_csv('./data/P_Train_27KB.txt',sep='\\t',header=None,index_col=0)\n",
    "    label.columns=['label']\n",
    "    lst_dir=glob.glob(os.path.join(config,'*.txt'))\n",
    "    data={}\n",
    "    for path in lst_dir:\n",
    "        with open(path,'r') as f:\n",
    "            temp=f.read()\n",
    "            temp=temp.split('unknown')[1].split(',')[1:-1]\n",
    "            temp=np.array(temp).astype('float32')\n",
    "            data[int(os.path.basename(path)[:-4])]=temp\n",
    "    df=pd.DataFrame(data).T\n",
    "    data_label=df.join(label)\n",
    "    return data_label"
   ]
  },
  {
   "cell_type": "code",
   "execution_count": null,
   "metadata": {},
   "outputs": [],
   "source": [
    "## TODO：调用函数 生成数据。\n",
    "data_label = None"
   ]
  },
  {
   "cell_type": "markdown",
   "metadata": {},
   "source": [
    "## 步骤四：划分训练和测试集合\n"
   ]
  },
  {
   "cell_type": "code",
   "execution_count": 93,
   "metadata": {},
   "outputs": [],
   "source": [
    "## TODO:划分数据"
   ]
  },
  {
   "cell_type": "markdown",
   "metadata": {},
   "source": [
    "## 步骤五：选择模型进行交叉验证和网格搜索\n",
    "\n",
    "请使用上课的方法，选择合适的模型以及评估方式，使用交叉验证和网格搜索建立模型，并选择合适的参数,打印出交叉验证的结果。"
   ]
  },
  {
   "cell_type": "code",
   "execution_count": 21,
   "metadata": {},
   "outputs": [],
   "source": [
    "## TODO：模型选择、交叉验证、网格搜索\n",
    "reg_model = None"
   ]
  },
  {
   "cell_type": "markdown",
   "metadata": {},
   "source": [
    "## 步骤六：模型的集成\n",
    "尝试使用stacking等方法对步骤五生成的不同学习器进行集成。"
   ]
  },
  {
   "cell_type": "code",
   "execution_count": null,
   "metadata": {},
   "outputs": [],
   "source": [
    "## TODO:模型集成\n",
    "ensemble_model=None"
   ]
  },
  {
   "cell_type": "markdown",
   "metadata": {},
   "source": [
    "## 步骤七：选择合适指标度量模型效果\n"
   ]
  },
  {
   "cell_type": "code",
   "execution_count": null,
   "metadata": {},
   "outputs": [],
   "source": []
  }
 ],
 "metadata": {
  "kernelspec": {
   "display_name": "Python 3",
   "language": "python",
   "name": "python3"
  },
  "language_info": {
   "codemirror_mode": {
    "name": "ipython",
    "version": 3
   },
   "file_extension": ".py",
   "mimetype": "text/x-python",
   "name": "python",
   "nbconvert_exporter": "python",
   "pygments_lexer": "ipython3",
   "version": "3.7.1"
  }
 },
 "nbformat": 4,
 "nbformat_minor": 2
}
